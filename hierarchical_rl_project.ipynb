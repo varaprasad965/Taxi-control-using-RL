{
  "nbformat": 4,
  "nbformat_minor": 0,
  "metadata": {
    "colab": {
      "provenance": []
    },
    "kernelspec": {
      "name": "python3",
      "display_name": "Python 3"
    },
    "language_info": {
      "name": "python"
    }
  },
  "cells": [
    {
      "cell_type": "code",
      "execution_count": null,
      "metadata": {
        "id": "Z4Ntam8hZ4Ys"
      },
      "outputs": [],
      "source": [
        "import gym\n",
        "import numpy as np\n",
        "import matplotlib.pyplot as plt\n",
        "import random\n",
        "import seaborn as sns"
      ]
    },
    {
      "cell_type": "code",
      "source": [
        "env = gym.make('Taxi-v3')\n",
        "state = env.reset()\n",
        "print(env.observation_space.n)\n",
        "print(env.action_space.n)\n",
        "print(env.action_mask(state))"
      ],
      "metadata": {
        "colab": {
          "base_uri": "https://localhost:8080/"
        },
        "id": "MjNn26_GZ7AA",
        "outputId": "8a588018-1a48-4827-a7ae-acf497232705"
      },
      "execution_count": null,
      "outputs": [
        {
          "output_type": "stream",
          "name": "stdout",
          "text": [
            "500\n",
            "6\n",
            "[0 1 0 1 0 0]\n"
          ]
        },
        {
          "output_type": "stream",
          "name": "stderr",
          "text": [
            "/usr/local/lib/python3.9/dist-packages/ipykernel/ipkernel.py:283: DeprecationWarning: `should_run_async` will not call `transform_cell` automatically in the future. Please pass the result to `transformed_cell` argument and any exception that happen during thetransform in `preprocessing_exc_tuple` in IPython 7.17 and above.\n",
            "  and should_run_async(code)\n",
            "/usr/local/lib/python3.9/dist-packages/gym/core.py:317: DeprecationWarning: \u001b[33mWARN: Initializing wrapper in old step API which returns one bool instead of two. It is recommended to set `new_step_api=True` to use new step API. This will be the default behaviour in future.\u001b[0m\n",
            "  deprecation(\n",
            "/usr/local/lib/python3.9/dist-packages/gym/wrappers/step_api_compatibility.py:39: DeprecationWarning: \u001b[33mWARN: Initializing environment in old step API which returns one bool instead of two. It is recommended to set `new_step_api=True` to use new step API. This will be the default behaviour in future.\u001b[0m\n",
            "  deprecation(\n"
          ]
        }
      ]
    },
    {
      "cell_type": "code",
      "source": [
        "def option_r(env, state):\n",
        "  taxi_row, taxi_col, _, _ = env.decode(state)\n",
        "  taxi = (taxi_row, taxi_col)\n",
        "  if taxi == (0,1):\n",
        "    actions = [3]\n",
        "  if taxi == (0,2):\n",
        "    actions = [0,0,3,3,1,1]\n",
        "  if taxi == (0,3):\n",
        "    actions = [0,0,3,3,3,1,1]\n",
        "  if taxi == (0,4):\n",
        "    actions = [0,0,3,3,3,3,1,1]\n",
        "  if taxi == (1,0):\n",
        "    actions = [1]\n",
        "  if taxi == (1,1):\n",
        "    actions = [3,1]\n",
        "  if taxi == (1,2):\n",
        "    actions = [0,3,3,1,1]\n",
        "  if taxi == (1,3):\n",
        "    actions = [0,3,3,3,1,1]\n",
        "  if taxi == (1,4):\n",
        "    actions = [0,3,3,3,3,1,1]\n",
        "  if taxi == (2,0):\n",
        "    actions = [1,1]\n",
        "  if taxi == (2,1):\n",
        "    actions = [3,1,1]\n",
        "  if taxi == (2,2):\n",
        "    actions = [3,3,1,1]\n",
        "  if taxi == (2,3):\n",
        "    actions = [3,3,3,1,1]\n",
        "  if taxi == (2,4):\n",
        "    actions = [3,3,3,3,1,1]\n",
        "  if taxi == (3,0):\n",
        "    actions = [1,1,1]\n",
        "  if taxi == (3,1):\n",
        "    actions = [1,3,1,1]\n",
        "  if taxi == (3,2):\n",
        "    actions = [1,3,3,1,1]\n",
        "  if taxi == (3,3):\n",
        "    actions = [1,3,3,3,1,1]\n",
        "  if taxi == (3,4):\n",
        "    actions = [1,3,3,3,3,1,1]\n",
        "  if taxi == (4,0):\n",
        "    actions = [1,1,1,1]\n",
        "  if taxi == (4,1):\n",
        "    actions = [1,1,3,1,1]\n",
        "  if taxi == (4,2):\n",
        "    actions = [1,1,3,3,1,1]\n",
        "  if taxi == (4,3):\n",
        "    actions = [1,1,3,3,3,1,1]\n",
        "  if taxi == (4,4):\n",
        "    actions = [1,1,3,3,3,3,1,1]\n",
        "\n",
        "  return actions\n",
        "\n",
        "def option_g(env, state):\n",
        "  taxi_row, taxi_col, _, _ = env.decode(state)\n",
        "  taxi = (taxi_row, taxi_col)\n",
        "  if taxi == (0,0):\n",
        "    actions = [0,0,2,2,2,2,1,1]\n",
        "  if taxi == (0,1):\n",
        "    actions = [0,0,2,2,2,1,1]\n",
        "  if taxi == (0,2):\n",
        "    actions = [2,2]\n",
        "  if taxi == (0,3):\n",
        "    actions = [2]\n",
        "  if taxi == (1,0):\n",
        "    actions = [0,2,2,2,2,1,1]\n",
        "  if taxi == (1,1):\n",
        "    actions = [0,2,2,2,1,1]\n",
        "  if taxi == (1,2):\n",
        "    actions = [2,2,1]\n",
        "  if taxi == (1,3):\n",
        "    actions = [2,1]\n",
        "  if taxi == (1,4):\n",
        "    actions = [1]\n",
        "  if taxi == (2,0):\n",
        "    actions = [2,2,2,2,1,1]\n",
        "  if taxi == (2,1):\n",
        "    actions = [2,2,2,1,1]\n",
        "  if taxi == (2,2):\n",
        "    actions = [2,2,1,1]\n",
        "  if taxi == (2,3):\n",
        "    actions = [2,1,1]\n",
        "  if taxi == (2,4):\n",
        "    actions = [1,1]\n",
        "  if taxi == (3,0):\n",
        "    actions = [1,2,2,2,2,1,1]\n",
        "  if taxi == (3,1):\n",
        "    actions = [1,2,2,2,1,1]\n",
        "  if taxi == (3,2):\n",
        "    actions = [1,2,2,1,1]\n",
        "  if taxi == (3,3):\n",
        "    actions = [1,2,1,1]\n",
        "  if taxi == (3,4):\n",
        "    actions = [1,1,1]\n",
        "  if taxi == (4,0):\n",
        "    actions = [1,1,2,2,2,2,1,1]\n",
        "  if taxi == (4,1):\n",
        "    actions = [1,1,2,2,2,1,1]\n",
        "  if taxi == (4,2):\n",
        "    actions = [1,1,2,2,1,1]\n",
        "  if taxi == (4,3):\n",
        "    actions = [1,1,2,1,1]\n",
        "  if taxi == (4,4):\n",
        "    actions = [1,1,1,1]\n",
        "\n",
        "  return actions\n",
        "\n",
        "def option_y(env, state):\n",
        "  taxi_row, taxi_col, _, _ = env.decode(state)\n",
        "  taxi = (taxi_row, taxi_col)\n",
        "  if taxi == (0,0):\n",
        "    actions = [0,0,0,0]\n",
        "  if taxi == (0,1):\n",
        "    actions = [0,0,3,0,0]\n",
        "  if taxi == (0,2):\n",
        "    actions = [0,0,3,3,0,0]\n",
        "  if taxi == (0,3):\n",
        "    actions = [0,0,3,3,3,0,0]\n",
        "  if taxi == (0,4):\n",
        "    actions = [0,0,3,3,3,3,0,0]\n",
        "  if taxi == (1,0):\n",
        "    actions = [0,0,0]\n",
        "  if taxi == (1,1):\n",
        "    actions = [0,3,0,0]\n",
        "  if taxi == (1,2):\n",
        "    actions = [0,3,3,0,0]\n",
        "  if taxi == (1,3):\n",
        "    actions = [0,3,3,3,0,0]\n",
        "  if taxi == (1,4):\n",
        "    actions = [0,3,3,3,3,0,0]\n",
        "  if taxi == (2,0):\n",
        "    actions = [0,0]\n",
        "  if taxi == (2,1):\n",
        "    actions = [3,0,0]\n",
        "  if taxi == (2,2):\n",
        "    actions = [3,3,0,0]\n",
        "  if taxi == (2,3):\n",
        "    actions = [3,3,3,0,0]\n",
        "  if taxi == (2,4):\n",
        "    actions = [3,3,3,3,0,0]\n",
        "  if taxi == (3,0):\n",
        "    actions = [0]\n",
        "  if taxi == (3,1):\n",
        "    actions = [1,3,0,0]\n",
        "  if taxi == (3,2):\n",
        "    actions = [1,3,3,0,0]\n",
        "  if taxi == (3,3):\n",
        "    actions = [1,3,3,3,0,0]\n",
        "  if taxi == (3,4):\n",
        "    actions = [1,3,3,3,3,0,0]\n",
        "  if taxi == (4,1):\n",
        "    actions = [1,1,3,0,0]\n",
        "  if taxi == (4,2):\n",
        "    actions = [1,1,3,3,0,0]\n",
        "  if taxi == (4,3):\n",
        "    actions = [1,1,3,3,3,0,0]\n",
        "  if taxi == (4,4):\n",
        "    actions = [1,1,3,3,3,3,0,0]\n",
        "\n",
        "  return actions\n",
        "\n",
        "def option_b(env, state):\n",
        "  taxi_row, taxi_col, _, _ = env.decode(state)\n",
        "  taxi = (taxi_row, taxi_col)\n",
        "  if taxi == (0,0):\n",
        "    actions = [0,0,2,2,2,0,0]\n",
        "  if taxi == (0,1):\n",
        "    actions = [0,0,2,2,0,0]\n",
        "  if taxi == (0,2):\n",
        "    actions = [0,0,2,0,0]\n",
        "  if taxi == (0,3):\n",
        "    actions = [0,0,0,0]\n",
        "  if taxi == (0,4):\n",
        "    actions = [0,0,3,0,0]\n",
        "  if taxi == (1,0):\n",
        "    actions = [0,2,2,2,0,0]\n",
        "  if taxi == (1,1):\n",
        "    actions = [0,2,2,0,0]\n",
        "  if taxi == (1,2):\n",
        "    actions = [0,2,0,0]\n",
        "  if taxi == (1,3):\n",
        "    actions = [0,0,0]\n",
        "  if taxi == (1,4):\n",
        "    actions = [0,3,0,0]\n",
        "  if taxi == (2,0):\n",
        "    actions = [2,2,2,0,0]\n",
        "  if taxi == (2,1):\n",
        "    actions = [2,2,0,0]\n",
        "  if taxi == (2,2):\n",
        "    actions = [2,0,0]\n",
        "  if taxi == (2,3):\n",
        "    actions = [0,0]\n",
        "  if taxi == (2,4):\n",
        "    actions = [3,0,0]\n",
        "  if taxi == (3,0):\n",
        "    actions = [1,2,2,2,0,0]\n",
        "  if taxi == (3,1):\n",
        "    actions = [1,2,2,0,0]\n",
        "  if taxi == (3,2):\n",
        "    actions = [1,2,0,0]\n",
        "  if taxi == (3,3):\n",
        "    actions = [0]\n",
        "  if taxi == (3,4):\n",
        "    actions = [3,0]\n",
        "  if taxi == (4,0):\n",
        "    actions = [1,1,2,2,2,0,0]\n",
        "  if taxi == (4,1):\n",
        "    actions = [1,1,2,2,0,0]\n",
        "  if taxi == (4,2):\n",
        "    actions = [1,1,2,0,0]\n",
        "  if taxi == (4,4):\n",
        "    actions = [3]\n",
        "\n",
        "  return actions"
      ],
      "metadata": {
        "id": "9yptKSRA9Sb4"
      },
      "execution_count": null,
      "outputs": []
    },
    {
      "cell_type": "code",
      "source": [
        "n_actions = 6\n",
        "n_options = 4\n",
        "total_actions = 10\n",
        "n_states = 500\n",
        "\n",
        "def choose_action(q_values,state,epsilon=0.1):\n",
        "\n",
        "  taxi_row, taxi_col, _, _ = env.decode(state)\n",
        "  q_values_state = q_values[state]\n",
        "  actions = [i for i in range(total_actions)]\n",
        "  best_action = np.argmax(q_values_state)\n",
        "\n",
        "  if (taxi_row, taxi_col) == (0, 0):\n",
        "    actions = np.delete(actions, 6)\n",
        "    q_max = np.max(q_values_state[actions])\n",
        "    best_action_list = np.where(q_values_state == q_max)[0]\n",
        "    best_action_list = best_action_list[best_action_list != 6]\n",
        "    best_action = best_action_list[0]\n",
        "\n",
        "  if (taxi_row, taxi_col) == (0, 4):\n",
        "    actions = np.delete(actions, 7)\n",
        "    q_max = np.max(q_values_state[actions])\n",
        "    best_action_list = np.where(q_values_state == q_max)[0]\n",
        "    best_action_list = best_action_list[best_action_list != 7]\n",
        "    best_action = best_action_list[0]\n",
        "\n",
        "  if (taxi_row, taxi_col) == (4, 0):\n",
        "    actions = np.delete(actions, 8)\n",
        "    q_max = np.max(q_values_state[actions])\n",
        "    best_action_list = np.where(q_values_state == q_max)[0]\n",
        "    best_action_list = best_action_list[best_action_list != 8]\n",
        "    best_action = best_action_list[0]\n",
        "\n",
        "  if (taxi_row, taxi_col) == (4, 3):\n",
        "    actions = np.delete(actions, 9)\n",
        "    q_max = np.max(q_values_state[actions])\n",
        "    best_action_list = np.where(q_values_state == q_max)[0]\n",
        "    best_action_list = best_action_list[best_action_list != 9]\n",
        "    best_action = best_action_list[0]\n",
        "\n",
        "  if random.uniform(0,1) > epsilon:\n",
        "      return best_action\n",
        "  else:\n",
        "      return np.random.choice(actions)"
      ],
      "metadata": {
        "id": "ahWx2DDtaU6Y"
      },
      "execution_count": null,
      "outputs": []
    },
    {
      "cell_type": "markdown",
      "source": [
        "**SMDP Q LEARNING**"
      ],
      "metadata": {
        "id": "KsHELBSfCH4w"
      }
    },
    {
      "cell_type": "code",
      "source": [
        "q_values_smdp = np.zeros((n_states, total_actions))\n",
        "update_freq_smdp = np.zeros((n_states, total_actions))\n",
        "\n",
        "gamma = 0.999\n",
        "alpha = 0.9\n",
        "n_episodes = 10000\n",
        "eps = 0.1\n",
        "\n",
        "reward_list = np.zeros(n_episodes)\n",
        "\n",
        "for ep in range(n_episodes):\n",
        "  if ep%1000 == 0:\n",
        "    print(ep)\n",
        "    eps = eps*0.9\n",
        "  state = env.reset()\n",
        "  done = False\n",
        "  episode_reward = 0\n",
        "\n",
        "  while not done:\n",
        "    action = choose_action(q_values_smdp, state, epsilon = eps)\n",
        "    taxi_row, taxi_col, _, _ = env.decode(state)\n",
        "\n",
        "    if action < 6:\n",
        "\n",
        "      next_state, reward, done, _ = env.step(action)\n",
        "      update = reward + gamma*(np.max(q_values_smdp[next_state])) - q_values_smdp[state, action]\n",
        "      update_freq_smdp[state, action] += 1\n",
        "      q_values_smdp[state, action] += alpha*update\n",
        "      episode_reward += reward\n",
        "      state = next_state\n",
        "\n",
        "    if action ==  6:\n",
        "      policy = option_r(env, state)\n",
        "      tau = 0\n",
        "      current_state = state\n",
        "      curr_row, curr_col, _, _ = env.decode(current_state)\n",
        "      reward_bar = 0\n",
        "\n",
        "      for i in range(len(policy)):\n",
        "        next_state, reward, done, _ = env.step(policy[i])\n",
        "        episode_reward += reward\n",
        "        reward_bar += (gamma**tau)*reward\n",
        "        tau += 1\n",
        "        state = next_state\n",
        "\n",
        "      taxi_row, taxi_col, _, _ = env.decode(state)\n",
        "\n",
        "      update = reward_bar + (gamma**tau) *(np.max(q_values_smdp[state])) - q_values_smdp[current_state, action]\n",
        "      q_values_smdp[current_state, action] += alpha*update\n",
        "      update_freq_smdp[current_state, action] += 1\n",
        "\n",
        "    if action ==  7:\n",
        "\n",
        "      policy = option_g(env, state)\n",
        "      tau = 0\n",
        "      current_state = state\n",
        "      reward_bar = 0\n",
        "\n",
        "      for i in range(len(policy)):\n",
        "        next_state, reward, done, _ = env.step(policy[i])\n",
        "        episode_reward += reward\n",
        "        reward_bar += (gamma**tau)*reward\n",
        "        tau += 1\n",
        "        state = next_state\n",
        "\n",
        "      taxi_row, taxi_col, _, _ = env.decode(state)\n",
        "\n",
        "      update = reward_bar + (gamma**tau) *(np.max(q_values_smdp[state])) - q_values_smdp[current_state, action]\n",
        "      q_values_smdp[current_state, action] += alpha*update\n",
        "      update_freq_smdp[current_state, action] += 1\n",
        "\n",
        "    if action ==  8:\n",
        "\n",
        "      policy = option_y(env, state)\n",
        "      tau = 0\n",
        "      current_state = state\n",
        "      reward_bar = 0\n",
        "\n",
        "      for i in range(len(policy)):\n",
        "        next_state, reward, done, _ = env.step(policy[i])\n",
        "        episode_reward += reward\n",
        "        reward_bar += (gamma**tau)*reward\n",
        "        tau += 1\n",
        "        state = next_state\n",
        "\n",
        "      taxi_row, taxi_col, _, _ = env.decode(state)\n",
        "\n",
        "      update = reward_bar + (gamma**tau) *(np.max(q_values_smdp[state])) - q_values_smdp[current_state, action]\n",
        "      q_values_smdp[current_state, action] += alpha*update\n",
        "      update_freq_smdp[current_state, action] += 1\n",
        "\n",
        "    if action ==  9:\n",
        "\n",
        "      policy = option_b(env, state)\n",
        "      tau = 0\n",
        "      current_state = state\n",
        "      reward_bar = 0\n",
        "\n",
        "      for i in range(len(policy)):\n",
        "        next_state, reward, done, _ = env.step(policy[i])\n",
        "        episode_reward += reward\n",
        "        reward_bar += (gamma**tau)*reward\n",
        "        tau += 1\n",
        "        state = next_state\n",
        "\n",
        "      taxi_row, taxi_col, _, _ = env.decode(state)\n",
        "\n",
        "      update = reward_bar + (gamma**tau) *(np.max(q_values_smdp[state])) - q_values_smdp[current_state, action]\n",
        "      q_values_smdp[current_state, action] += alpha*update\n",
        "      update_freq_smdp[current_state, action] += 1\n",
        "\n",
        "  reward_list[ep] = episode_reward\n",
        ""
      ],
      "metadata": {
        "id": "np5yOglZCE4z",
        "colab": {
          "base_uri": "https://localhost:8080/"
        },
        "outputId": "ca54ab29-4075-4d10-df36-50da798c9f5c"
      },
      "execution_count": null,
      "outputs": [
        {
          "output_type": "stream",
          "name": "stdout",
          "text": [
            "0\n",
            "1000\n",
            "2000\n",
            "3000\n",
            "4000\n",
            "5000\n",
            "6000\n",
            "7000\n",
            "8000\n",
            "9000\n"
          ]
        }
      ]
    },
    {
      "cell_type": "code",
      "source": [
        "sns.set_style('darkgrid')\n",
        "plt.xlabel('Episodes', fontsize = 14)\n",
        "plt.ylabel('Episode Reward', fontsize = 14)\n",
        "plt.title('Reward curve for smdp q learning', fontsize = 16)\n",
        "plt.plot(reward_list)"
      ],
      "metadata": {
        "colab": {
          "base_uri": "https://localhost:8080/",
          "height": 496
        },
        "id": "7o5u75_ixrm6",
        "outputId": "6c385567-271a-4fcd-dbbf-eb8351e353f3"
      },
      "execution_count": null,
      "outputs": [
        {
          "output_type": "execute_result",
          "data": {
            "text/plain": [
              "[<matplotlib.lines.Line2D at 0x7fe82b923850>]"
            ]
          },
          "metadata": {},
          "execution_count": 6
        },
        {
          "output_type": "display_data",
          "data": {
            "text/plain": [
              "<Figure size 640x480 with 1 Axes>"
            ],
            "image/png": "[encoded data removed]"
          },
          "metadata": {}
        }
      ]
    },
    {
      "cell_type": "code",
      "source": [
        "print(np.mean(reward_list))\n",
        "print(np.mean(reward_list[-100:]))"
      ],
      "metadata": {
        "colab": {
          "base_uri": "https://localhost:8080/"
        },
        "id": "nTeI3lzSxu_x",
        "outputId": "e8d15c09-3b13-4f21-f2f8-3888302a2091"
      },
      "execution_count": null,
      "outputs": [
        {
          "output_type": "stream",
          "name": "stdout",
          "text": [
            "2.1037\n",
            "6.34\n"
          ]
        }
      ]
    },
    {
      "cell_type": "code",
      "source": [
        "print(np.mean(reward_list))\n",
        "print(np.mean(reward_list[-100:]))"
      ],
      "metadata": {
        "colab": {
          "base_uri": "https://localhost:8080/"
        },
        "id": "mZoy3U--YKlS",
        "outputId": "034b2d86-ab24-4ffe-bac4-2df162a90c1b"
      },
      "execution_count": null,
      "outputs": [
        {
          "output_type": "stream",
          "name": "stdout",
          "text": [
            "2.1037\n",
            "6.34\n"
          ]
        }
      ]
    },
    {
      "cell_type": "code",
      "source": [
        "test_episodes = 5\n",
        "\n",
        "for i in range(test_episodes):\n",
        "  state = env.reset()\n",
        "  taxi_row, taxi_col, pickup, destination = env.decode(state)\n",
        "  print(pickup, destination)\n",
        "  done = False\n",
        "  actions = []\n",
        "\n",
        "  while not done:\n",
        "    action = choose_action(q_values_smdp, state)\n",
        "    actions.append(action)\n",
        "\n",
        "    if action < 6:\n",
        "      next_state, reward, done, info = env.step(action)\n",
        "      state = next_state\n",
        "\n",
        "    if action == 6:\n",
        "      policy = option_r(env, state)\n",
        "      for i in range(len(policy)):\n",
        "        move = policy[i]\n",
        "        next_state, reward, done, info = env.step(move)\n",
        "        state = next_state\n",
        "\n",
        "    if action == 7:\n",
        "      policy = option_g(env, state)\n",
        "      for i in range(len(policy)):\n",
        "        move = policy[i]\n",
        "        next_state, reward, done, info = env.step(move)\n",
        "        state = next_state\n",
        "\n",
        "    if action == 8:\n",
        "      policy = option_y(env, state)\n",
        "      for i in range(len(policy)):\n",
        "        move = policy[i]\n",
        "        next_state, reward, done, info = env.step(move)\n",
        "        state = next_state\n",
        "\n",
        "    if action == 9:\n",
        "      policy = option_b(env, state)\n",
        "      for i in range(len(policy)):\n",
        "        move = policy[i]\n",
        "        next_state, reward, done, info = env.step(move)\n",
        "        state = next_state\n",
        "\n",
        "  print(f'Expected actions: [{pickup+6}, 4, {destination+6}, 5]')\n",
        "  print(f'Actual actions:{actions}')"
      ],
      "metadata": {
        "colab": {
          "base_uri": "https://localhost:8080/"
        },
        "id": "ByizK-g2m7et",
        "outputId": "fef08f86-94fa-4c1a-a1ff-acb4ec67d030"
      },
      "execution_count": null,
      "outputs": [
        {
          "output_type": "stream",
          "name": "stdout",
          "text": [
            "2 3\n",
            "Expected actions: [8, 4, 9, 5]\n",
            "Actual actions:[8, 4, 5, 4, 9, 5]\n",
            "3 2\n",
            "Expected actions: [9, 4, 8, 5]\n",
            "Actual actions:[9, 6, 9, 4, 8, 5]\n",
            "0 2\n",
            "Expected actions: [6, 4, 8, 5]\n",
            "Actual actions:[6, 4, 8, 5]\n",
            "2 1\n",
            "Expected actions: [8, 4, 7, 5]\n",
            "Actual actions:[2, 1, 8, 4, 7, 2, 5]\n",
            "3 0\n",
            "Expected actions: [9, 4, 6, 5]\n",
            "Actual actions:[3, 9, 4, 1, 6, 5]\n"
          ]
        }
      ]
    },
    {
      "cell_type": "markdown",
      "source": [
        "**INTRA OPTION Q LEARNING**\n"
      ],
      "metadata": {
        "id": "3O_-WoKUfRUT"
      }
    },
    {
      "cell_type": "code",
      "source": [
        "def update_r(env, state, action, next_state, reward):\n",
        "\n",
        "  taxi_row, taxi_col, _, _  = env.decode(state)\n",
        "  if (taxi_row, taxi_col) != (0,0):\n",
        "    policy_r = option_r(env, state)\n",
        "    if policy_r[0] == action:\n",
        "\n",
        "      if len(policy_r) == 1:\n",
        "        option_update = reward + gamma*(np.max(q_values_intra_option[next_state])) - q_values_intra_option[state, 6]\n",
        "      else:\n",
        "        option_update = reward + gamma*(q_values_intra_option[next_state, 6]) - q_values_intra_option[state, 6]\n",
        "\n",
        "      q_values_intra_option[state, 6] += alpha*option_update\n",
        "\n",
        "def update_g(env, state, action, next_state, reward):\n",
        "\n",
        "  taxi_row, taxi_col, _, _  = env.decode(state)\n",
        "  if (taxi_row, taxi_col) != (0,4):\n",
        "    policy_g = option_g(env, state)\n",
        "    if policy_g[0] == action:\n",
        "\n",
        "      if len(policy_g) == 1:\n",
        "        option_update = reward + gamma*(np.max(q_values_intra_option[next_state])) - q_values_intra_option[state, 7]\n",
        "      else:\n",
        "        option_update = reward + gamma*(q_values_intra_option[next_state, 7]) - q_values_intra_option[state, 7]\n",
        "\n",
        "      q_values_intra_option[state, 7] += alpha*option_update\n",
        "\n",
        "def update_y(env, state, action, next_state, reward):\n",
        "\n",
        "  taxi_row, taxi_col, _, _  = env.decode(state)\n",
        "  if (taxi_row, taxi_col) != (4,0):\n",
        "    policy_y = option_y(env, state)\n",
        "    if policy_y[0] == action:\n",
        "\n",
        "      if len(policy_y) == 1:\n",
        "        option_update = reward + gamma*(np.max(q_values_intra_option[next_state])) - q_values_intra_option[state, 8]\n",
        "      else:\n",
        "        option_update = reward + gamma*(q_values_intra_option[next_state, 8]) - q_values_intra_option[state, 8]\n",
        "\n",
        "      q_values_intra_option[state, 8] += alpha*option_update\n",
        "\n",
        "def update_b(env, state, action, next_state, reward):\n",
        "\n",
        "  taxi_row, taxi_col, _, _  = env.decode(state)\n",
        "  if (taxi_row, taxi_col) != (4,3):\n",
        "    policy_b = option_b(env, state)\n",
        "    if policy_b[0] == action:\n",
        "\n",
        "      if len(policy_b) == 1:\n",
        "        option_update = reward + gamma*(np.max(q_values_intra_option[next_state])) - q_values_intra_option[state, 9]\n",
        "      else:\n",
        "        option_update = reward + gamma*(q_values_intra_option[next_state, 9]) - q_values_intra_option[state, 9]\n",
        "\n",
        "      q_values_intra_option[state, 9] += alpha*option_update"
      ],
      "metadata": {
        "id": "K5d-Dub8wWnC"
      },
      "execution_count": null,
      "outputs": []
    },
    {
      "cell_type": "code",
      "source": [
        "q_values_intra_option = np.zeros((n_states, total_actions))\n",
        "update_freq_intra_option = np.zeros((n_states, total_actions))\n",
        "\n",
        "gamma= 0.99\n",
        "alpha = 0.9\n",
        "num_episodes = 10000\n",
        "reward_list = []\n",
        "eps = 0.1\n",
        "\n",
        "for ep in range(num_episodes):\n",
        "  state = env.reset()\n",
        "  done = False\n",
        "  episode_reward = 0\n",
        "\n",
        "  if ep%1000 == 0:\n",
        "    print(ep)\n",
        "    eps *= 0.9\n",
        "\n",
        "  while not done:\n",
        "    action = choose_action(q_values_intra_option, state, epsilon = eps)\n",
        "    if action < 6:\n",
        "\n",
        "      next_state, reward, done, _ = env.step(action)\n",
        "      episode_reward += reward\n",
        "      update = reward + gamma*(np.max(q_values_intra_option[next_state])) - q_values_intra_option[state, action]\n",
        "      q_values_intra_option[state, action] += alpha*update\n",
        "\n",
        "      update_r(env, state, action, next_state, reward)\n",
        "      update_g(env, state, action, next_state, reward)\n",
        "      update_y(env, state, action, next_state, reward)\n",
        "      update_b(env, state, action, next_state, reward)\n",
        "\n",
        "      state = next_state\n",
        "\n",
        "    if action == 6:\n",
        "\n",
        "      policy = option_r(env, state)\n",
        "      for i in range(len(policy)):\n",
        "        move = policy[i]\n",
        "        next_state, reward, done, _ = env.step(move)\n",
        "        episode_reward += reward\n",
        "        if i == len(policy)-1:\n",
        "          update = reward + gamma*(np.max(q_values_intra_option[next_state])) - q_values_intra_option[state, 6]\n",
        "        else:\n",
        "          update = reward + gamma*(q_values_intra_option[next_state, 6]) - q_values_intra_option[state, 6]\n",
        "\n",
        "        q_values_intra_option[state, 6] += alpha*update\n",
        "\n",
        "        update_g(env, state, move, next_state, reward)\n",
        "        update_y(env, state, move, next_state, reward)\n",
        "        update_b(env, state, move, next_state, reward)\n",
        "\n",
        "        state = next_state\n",
        "\n",
        "\n",
        "    if action == 7:\n",
        "\n",
        "      policy = option_g(env, state)\n",
        "      for i in range(len(policy)):\n",
        "        move = policy[i]\n",
        "        next_state, reward, done, _ = env.step(move)\n",
        "        episode_reward += reward\n",
        "        if i == len(policy)-1:\n",
        "          update = reward + gamma*(np.max(q_values_intra_option[next_state])) - q_values_intra_option[state, 7]\n",
        "        else:\n",
        "          update = reward + gamma*(q_values_intra_option[next_state, 7]) - q_values_intra_option[state, 7]\n",
        "\n",
        "        q_values_intra_option[state, 7] += alpha*update\n",
        "\n",
        "        update_r(env, state, move, next_state, reward)\n",
        "        update_y(env, state, move, next_state, reward)\n",
        "        update_b(env, state, move, next_state, reward)\n",
        "\n",
        "        state = next_state\n",
        "\n",
        "    if action == 8:\n",
        "\n",
        "      policy = option_y(env, state)\n",
        "      for i in range(len(policy)):\n",
        "        move = policy[i]\n",
        "        next_state, reward, done, _ = env.step(move)\n",
        "        episode_reward += reward\n",
        "        if i == len(policy)-1:\n",
        "          update = reward + gamma*(np.max(q_values_intra_option[next_state])) - q_values_intra_option[state, 8]\n",
        "        else:\n",
        "          update = reward + gamma*(q_values_intra_option[next_state, 8]) - q_values_intra_option[state, 8]\n",
        "\n",
        "        q_values_intra_option[state, 8] += alpha*update\n",
        "\n",
        "        update_r(env, state, move, next_state, reward)\n",
        "        update_g(env, state, move, next_state, reward)\n",
        "        update_b(env, state, move, next_state, reward)\n",
        "\n",
        "        state = next_state\n",
        "\n",
        "    if action == 9:\n",
        "\n",
        "      policy = option_b(env, state)\n",
        "      for i in range(len(policy)):\n",
        "        move = policy[i]\n",
        "        next_state, reward, done, _ = env.step(move)\n",
        "        episode_reward += reward\n",
        "        if i == len(policy)-1:\n",
        "          update = reward + gamma*(np.max(q_values_intra_option[next_state])) - q_values_intra_option[state, 9]\n",
        "        else:\n",
        "          update = reward + gamma*(q_values_intra_option[next_state, 9]) - q_values_intra_option[state, 9]\n",
        "\n",
        "        q_values_intra_option[state, 9] += alpha*update\n",
        "\n",
        "        update_r(env, state, move, next_state, reward)\n",
        "        update_g(env, state, move, next_state, reward)\n",
        "        update_y(env, state, move, next_state, reward)\n",
        "\n",
        "        state = next_state\n",
        "\n",
        "\n",
        "  reward_list.append(episode_reward)\n"
      ],
      "metadata": {
        "id": "YNtDxjmKfQvD",
        "colab": {
          "base_uri": "https://localhost:8080/"
        },
        "outputId": "190f0e6d-51c1-4908-b0c7-acf9bcc1ecec"
      },
      "execution_count": null,
      "outputs": [
        {
          "output_type": "stream",
          "name": "stdout",
          "text": [
            "0\n",
            "1000\n",
            "2000\n",
            "3000\n",
            "4000\n",
            "5000\n",
            "6000\n",
            "7000\n",
            "8000\n",
            "9000\n"
          ]
        }
      ]
    },
    {
      "cell_type": "code",
      "source": [
        "sns.set_style('darkgrid')\n",
        "plt.xlabel('Episodes', fontsize = 14)\n",
        "plt.ylabel('Episode Reward', fontsize = 14)\n",
        "plt.title('Reward curve for Intra Option Q Learning', fontsize = 16)\n",
        "plt.plot(reward_list)"
      ],
      "metadata": {
        "id": "JLLYtLPugD8Z",
        "colab": {
          "base_uri": "https://localhost:8080/",
          "height": 496
        },
        "outputId": "700f34fd-c765-43d3-826c-efd2f21e2548"
      },
      "execution_count": null,
      "outputs": [
        {
          "output_type": "execute_result",
          "data": {
            "text/plain": [
              "[<matplotlib.lines.Line2D at 0x7fe829026520>]"
            ]
          },
          "metadata": {},
          "execution_count": 12
        },
        {
          "output_type": "display_data",
          "data": {
            "text/plain": [
              "<Figure size 640x480 with 1 Axes>"
            ],
            "image/png": "[encoded data removed]"
          },
          "metadata": {}
        }
      ]
    },
    {
      "cell_type": "code",
      "source": [
        "print(np.mean(reward_list))\n",
        "print(np.mean(reward_list[-100:]))"
      ],
      "metadata": {
        "colab": {
          "base_uri": "https://localhost:8080/"
        },
        "id": "gPhdnUYpZPPN",
        "outputId": "4f054ba6-12a7-44bd-969e-93d2727e42d3"
      },
      "execution_count": null,
      "outputs": [
        {
          "output_type": "stream",
          "name": "stdout",
          "text": [
            "-0.7438\n",
            "7.57\n"
          ]
        }
      ]
    },
    {
      "cell_type": "code",
      "source": [
        "test_episodes = 5\n",
        "\n",
        "for i in range(test_episodes):\n",
        "  state = env.reset()\n",
        "  taxi_row, taxi_col, pickup, destination = env.decode(state)\n",
        "  print(pickup, destination)\n",
        "  done = False\n",
        "  actions = []\n",
        "\n",
        "  while not done:\n",
        "    action = choose_action(q_values_intra_option, state)\n",
        "    actions.append(action)\n",
        "\n",
        "    if action < 6:\n",
        "      next_state, reward, done, info = env.step(action)\n",
        "      state = next_state\n",
        "\n",
        "    if action == 6:\n",
        "      policy = option_r(env, state)\n",
        "      for i in range(len(policy)):\n",
        "        move = policy[i]\n",
        "        next_state, reward, done, info = env.step(move)\n",
        "        state = next_state\n",
        "\n",
        "    if action == 7:\n",
        "      policy = option_g(env, state)\n",
        "      for i in range(len(policy)):\n",
        "        move = policy[i]\n",
        "        next_state, reward, done, info = env.step(move)\n",
        "        state = next_state\n",
        "\n",
        "    if action == 8:\n",
        "      policy = option_y(env, state)\n",
        "      for i in range(len(policy)):\n",
        "        move = policy[i]\n",
        "        next_state, reward, done, info = env.step(move)\n",
        "        state = next_state\n",
        "\n",
        "    if action == 9:\n",
        "      policy = option_b(env, state)\n",
        "      for i in range(len(policy)):\n",
        "        move = policy[i]\n",
        "        next_state, reward, done, info = env.step(move)\n",
        "        state = next_state\n",
        "\n",
        "  print(f'Expected actions: [{pickup+6}, 4, {destination+6}, 5]')\n",
        "  print(f'Actual actions:{actions}')"
      ],
      "metadata": {
        "colab": {
          "base_uri": "https://localhost:8080/"
        },
        "id": "ZmdK4Q3rSvWA",
        "outputId": "29fbfc0c-ad42-4972-f974-90981920a247"
      },
      "execution_count": null,
      "outputs": [
        {
          "output_type": "stream",
          "name": "stdout",
          "text": [
            "3 0\n",
            "Expected actions: [9, 4, 6, 5]\n",
            "Actual actions:[9, 4, 6, 5]\n",
            "3 1\n",
            "Expected actions: [9, 4, 7, 5]\n",
            "Actual actions:[9, 4, 7, 5]\n",
            "3 2\n",
            "Expected actions: [9, 4, 8, 5]\n",
            "Actual actions:[9, 4, 8, 5]\n",
            "3 2\n",
            "Expected actions: [9, 4, 8, 5]\n",
            "Actual actions:[9, 4, 8, 5]\n",
            "0 2\n",
            "Expected actions: [6, 4, 8, 5]\n",
            "Actual actions:[6, 4, 8, 5]\n"
          ]
        }
      ]
    },
    {
      "cell_type": "code",
      "source": [
        "import matplotlib.pyplot as plt\n",
        "import numpy as np\n",
        "\n",
        "def plot_q_table(q_values):\n",
        "    \"\"\"Visualize Q-table as a heat map.\"\"\"\n",
        "    states = range(q_values.shape[0])\n",
        "    actions = range(q_values.shape[1])\n",
        "    fig, ax = plt.subplots()\n",
        "    im = ax.imshow(q_values, cmap='viridis')\n",
        "    ax.set_xticks(np.arange(len(actions)))\n",
        "    ax.set_yticks(np.arange(len(states)))\n",
        "    ax.set_xticklabels(actions)\n",
        "    ax.set_yticklabels(states)\n",
        "    plt.setp(ax.get_xticklabels(), rotation=45, ha=\"right\",\n",
        "             rotation_mode=\"anchor\")\n",
        "    for i in range(len(states)):\n",
        "        for j in range(len(actions)):\n",
        "            text = ax.text(j, i, f'{q_values[i, j]:.2f}',\n",
        "                           ha=\"center\", va=\"center\", color=\"w\")\n",
        "    ax.set_title(\"Q-Table Heat Map\")\n",
        "    fig.tight_layout()\n",
        "    plt.show()\n"
      ],
      "metadata": {
        "id": "64ug9snUe7mK"
      },
      "execution_count": null,
      "outputs": []
    },
    {
      "cell_type": "code",
      "source": [
        "print(q_values_smdp.shape, q_values_intra_option.shape)"
      ],
      "metadata": {
        "colab": {
          "base_uri": "https://localhost:8080/"
        },
        "id": "TuNSfz27e8Ap",
        "outputId": "a96eb5d2-0364-4c8c-ab15-933876bd1b15"
      },
      "execution_count": null,
      "outputs": [
        {
          "output_type": "stream",
          "name": "stdout",
          "text": [
            "(500, 10) (500, 10)\n"
          ]
        }
      ]
    },
    {
      "cell_type": "code",
      "source": [
        "import seaborn as sns\n",
        "plt.figure(figsize = (10, 10))\n",
        "plt.title(\"Heat map of Q values in SMDP Q learning\")\n",
        "sns.heatmap(q_values_smdp[0:50, :],cmap = \"viridis\")\n",
        "plt.show()"
      ],
      "metadata": {
        "id": "cSPkQEf5e-nG",
        "colab": {
          "base_uri": "https://localhost:8080/",
          "height": 853
        },
        "outputId": "1fad59b4-828e-495a-e40e-d60f17bd83bf"
      },
      "execution_count": null,
      "outputs": [
        {
          "output_type": "display_data",
          "data": {
            "text/plain": [
              "<Figure size 1000x1000 with 2 Axes>"
            ],
            "image/png": "[encoded data removed]"
          },
          "metadata": {}
        }
      ]
    },
    {
      "cell_type": "code",
      "source": [
        "import seaborn as sns\n",
        "plt.figure(figsize = (10, 10))\n",
        "plt.title(\"Heat map of Q values in Intra Option Q learning\")\n",
        "sns.heatmap(q_values_intra_option[0:50, :],cmap = \"viridis\")\n",
        "plt.show()"
      ],
      "metadata": {
        "colab": {
          "base_uri": "https://localhost:8080/",
          "height": 853
        },
        "id": "I6g4HTQxP1uF",
        "outputId": "af1c5ba4-8e20-4155-f51a-1176d9006967"
      },
      "execution_count": null,
      "outputs": [
        {
          "output_type": "display_data",
          "data": {
            "text/plain": [
              "<Figure size 1000x1000 with 2 Axes>"
            ],
            "image/png": "[encoded data removed]"
          },
          "metadata": {}
        }
      ]
    },
    {
      "cell_type": "code",
      "source": [],
      "metadata": {
        "id": "as-f9xU3RJY4"
      },
      "execution_count": null,
      "outputs": []
    }
  ]
}